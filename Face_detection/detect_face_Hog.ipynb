{
 "cells": [
  {
   "cell_type": "code",
   "execution_count": 1,
   "metadata": {},
   "outputs": [
    {
     "name": "stdout",
     "output_type": "stream",
     "text": [
      "[INFO] Loading HOG + Linear SVM face detector...\n",
      "[INFO] Starting live face detection. Press 'q' to quit.\n"
     ]
    },
    {
     "ename": "RuntimeError",
     "evalue": "Unsupported image type, must be 8bit gray or RGB image.",
     "output_type": "error",
     "traceback": [
      "\u001b[1;31m---------------------------------------------------------------------------\u001b[0m",
      "\u001b[1;31mRuntimeError\u001b[0m                              Traceback (most recent call last)",
      "Cell \u001b[1;32mIn[1], line 51\u001b[0m\n\u001b[0;32m     49\u001b[0m \u001b[38;5;66;03m# Perform face detection using dlib's face detector\u001b[39;00m\n\u001b[0;32m     50\u001b[0m start \u001b[38;5;241m=\u001b[39m time\u001b[38;5;241m.\u001b[39mtime()\n\u001b[1;32m---> 51\u001b[0m rects \u001b[38;5;241m=\u001b[39m \u001b[43mdetector\u001b[49m\u001b[43m(\u001b[49m\u001b[43mrgb\u001b[49m\u001b[43m,\u001b[49m\u001b[43m \u001b[49m\u001b[38;5;241;43m1\u001b[39;49m\u001b[43m)\u001b[49m  \u001b[38;5;66;03m# `1` is the upsample parameter\u001b[39;00m\n\u001b[0;32m     52\u001b[0m end \u001b[38;5;241m=\u001b[39m time\u001b[38;5;241m.\u001b[39mtime()\n\u001b[0;32m     54\u001b[0m \u001b[38;5;28mprint\u001b[39m(\u001b[38;5;124m\"\u001b[39m\u001b[38;5;124m[INFO] Face detection took \u001b[39m\u001b[38;5;132;01m{:.4f}\u001b[39;00m\u001b[38;5;124m seconds\u001b[39m\u001b[38;5;124m\"\u001b[39m\u001b[38;5;241m.\u001b[39mformat(end \u001b[38;5;241m-\u001b[39m start))\n",
      "\u001b[1;31mRuntimeError\u001b[0m: Unsupported image type, must be 8bit gray or RGB image."
     ]
    }
   ],
   "source": [
    "# Import necessary packages\n",
    "import dlib\n",
    "import cv2\n",
    "import time\n",
    "\n",
    "# Function to convert and trim bounding box\n",
    "def convert_and_trim_bb(image, rect):\n",
    "    # Extract the starting and ending (x, y)-coordinates of the bounding box\n",
    "    startX = rect.left()\n",
    "    startY = rect.top()\n",
    "    endX = rect.right()\n",
    "    endY = rect.bottom()\n",
    "    # Ensure the bounding box coordinates fall within the spatial dimensions of the image\n",
    "    startX = max(0, startX)\n",
    "    startY = max(0, startY)\n",
    "    endX = min(endX, image.shape[1])\n",
    "    endY = min(endY, image.shape[0])\n",
    "    # Compute the width and height of the bounding box\n",
    "    w = endX - startX\n",
    "    h = endY - startY\n",
    "    # Return the bounding box coordinates\n",
    "    return (startX, startY, w, h)\n",
    "\n",
    "# Load dlib's HOG + Linear SVM face detector\n",
    "print(\"[INFO] Loading HOG + Linear SVM face detector...\")\n",
    "detector = dlib.get_frontal_face_detector()\n",
    "\n",
    "# Open webcam for live video\n",
    "cap = cv2.VideoCapture(0)  # Default camera (ID = 0)\n",
    "if not cap.isOpened():\n",
    "    print(\"[ERROR] Could not open webcam.\")\n",
    "    exit()\n",
    "\n",
    "print(\"[INFO] Starting live face detection. Press 'q' to quit.\")\n",
    "\n",
    "while True:\n",
    "    # Capture frame-by-frame\n",
    "    ret, frame = cap.read()\n",
    "    if not ret:\n",
    "        print(\"[ERROR] Failed to grab frame.\")\n",
    "        break\n",
    "\n",
    "    # Resize the frame to a width of 600 pixels\n",
    "    frame = cv2.resize(frame, (600, int(frame.shape[0] * (600 / frame.shape[1]))))\n",
    "\n",
    "    # Convert BGR to RGB (as dlib expects RGB images)\n",
    "    rgb = cv2.cvtColor(frame, cv2.COLOR_BGR2RGB)\n",
    "\n",
    "    # Perform face detection using dlib's face detector\n",
    "    start = time.time()\n",
    "    rects = detector(rgb, 1)  # `1` is the upsample parameter\n",
    "    end = time.time()\n",
    "\n",
    "    print(\"[INFO] Face detection took {:.4f} seconds\".format(end - start))\n",
    "\n",
    "    # Convert dlib rectangles to bounding boxes\n",
    "    boxes = [convert_and_trim_bb(frame, r) for r in rects]\n",
    "\n",
    "    # Draw bounding boxes on the frame\n",
    "    for (x, y, w, h) in boxes:\n",
    "        cv2.rectangle(frame, (x, y), (x + w, y + h), (0, 255, 0), 2)\n",
    "\n",
    "    # Display the resulting frame\n",
    "    cv2.imshow(\"Live Face Detection\", frame)\n",
    "\n",
    "    # Break the loop if 'q' is pressed\n",
    "    if cv2.waitKey(1) & 0xFF == ord('q'):\n",
    "        break\n",
    "\n",
    "# Release the webcam and close windows\n",
    "cap.release()\n",
    "cv2.destroyAllWindows()\n"
   ]
  },
  {
   "cell_type": "code",
   "execution_count": 2,
   "metadata": {},
   "outputs": [
    {
     "name": "stdout",
     "output_type": "stream",
     "text": [
      "^C\n",
      "Note: you may need to restart the kernel to use updated packages.\n"
     ]
    }
   ],
   "source": [
    "pip uninstall numpy"
   ]
  }
 ],
 "metadata": {
  "kernelspec": {
   "display_name": "maskenv",
   "language": "python",
   "name": "python3"
  },
  "language_info": {
   "codemirror_mode": {
    "name": "ipython",
    "version": 3
   },
   "file_extension": ".py",
   "mimetype": "text/x-python",
   "name": "python",
   "nbconvert_exporter": "python",
   "pygments_lexer": "ipython3",
   "version": "3.10.12"
  }
 },
 "nbformat": 4,
 "nbformat_minor": 2
}

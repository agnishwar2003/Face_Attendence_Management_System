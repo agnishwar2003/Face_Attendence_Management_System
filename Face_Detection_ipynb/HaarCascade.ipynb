{
 "cells": [
  {
   "cell_type": "code",
   "execution_count": 1,
   "metadata": {},
   "outputs": [],
   "source": [
    "import cv2"
   ]
  },
  {
   "cell_type": "code",
   "execution_count": 2,
   "metadata": {},
   "outputs": [],
   "source": [
    "face_cap = cv2.CascadeClassifier(cv2.data.haarcascades + \"haarcascade_frontalface_default.xml\")"
   ]
  },
  {
   "cell_type": "code",
   "execution_count": 3,
   "metadata": {},
   "outputs": [],
   "source": [
    "video_cap = cv2.VideoCapture(0)\n",
    "while True:\n",
    "    ret, video_data = video_cap.read()\n",
    "    video_data = cv2.flip(video_data, 1)\n",
    "    # Convert the frame to grayscale\n",
    "    col = cv2.cvtColor(video_data, cv2.COLOR_BGR2GRAY)\n",
    "\n",
    "    # Detect faces in the grayscale image\n",
    "    faces = face_cap.detectMultiScale(\n",
    "        col,\n",
    "        scaleFactor= 1.1,\n",
    "        minNeighbors= 5,\n",
    "        minSize=(30, 30),\n",
    "        flags= cv2.CASCADE_SCALE_IMAGE\n",
    "    )\n",
    "\n",
    "    # Draw rectangles around the detected faces\n",
    "    for (x, y, w, h) in faces:\n",
    "        cv2.rectangle(video_data, (x, y), (x + w, y + h), (0, 255, 0), 2)\n",
    "    \n",
    "    if not ret:\n",
    "        print(\"Failed to grab frame\")\n",
    "        break\n",
    "\n",
    "    # Show the video with detected faces\n",
    "    \n",
    "    cv2.imshow(\"Video Live\", video_data)\n",
    "\n",
    "    # Break the loop if 's' is pressed\n",
    "    if cv2.waitKey(10) == ord(\"q\"):\n",
    "        break\n",
    "\n",
    "# Release the video capture object and close the display window\n",
    "video_cap.release()\n",
    "cv2.destroyAllWindows()"
   ]
  },
  {
   "cell_type": "code",
   "execution_count": 3,
   "metadata": {},
   "outputs": [],
   "source": [
    "import cv2\n",
    "\n",
    "# Load the Haar Cascade face detector\n",
    "face_cap = cv2.CascadeClassifier(cv2.data.haarcascades + \"haarcascade_frontalface_default.xml\")\n",
    "\n",
    "# Load image\n",
    "image_path = r\"D:\\PythonProject\\Face_Recognition_DL\\MultipleSelfie_LowLight.jpg\"  # Replace with your image path\n",
    "image = cv2.imread(image_path)\n",
    "image = cv2.resize(image, (600, 500))\n",
    "\n",
    "# Check if the image is loaded correctly\n",
    "if image is None:\n",
    "    print(f\"[ERROR] Could not load image from {image_path}. Check the file path.\")\n",
    "    exit()\n",
    "\n",
    "# Convert the image to grayscale\n",
    "gray = cv2.cvtColor(image, cv2.COLOR_BGR2GRAY)\n",
    "\n",
    "# Detect faces in the grayscale image\n",
    "faces = face_cap.detectMultiScale(\n",
    "    gray,\n",
    "    scaleFactor=1.1,\n",
    "    minNeighbors=5,\n",
    "    minSize=(30, 30),\n",
    "    flags=cv2.CASCADE_SCALE_IMAGE\n",
    ")\n",
    "\n",
    "# Draw rectangles around the detected faces\n",
    "for (x, y, w, h) in faces:\n",
    "    cv2.rectangle(image, (x, y), (x + w, y + h), (0, 255, 0), 1)\n",
    "\n",
    "# Display the image with detected faces\n",
    "cv2.imshow(\"Face Detection\", image)\n",
    "cv2.imwrite(r\"D:\\PythonProject\\Face_Recognition_DL\\Face_detection_test_op\\LL_LR_haar.jpg\", image)\n",
    "\n",
    "cv2.waitKey(0)\n",
    "cv2.destroyAllWindows()\n"
   ]
  }
 ],
 "metadata": {
  "kernelspec": {
   "display_name": "base",
   "language": "python",
   "name": "python3"
  },
  "language_info": {
   "codemirror_mode": {
    "name": "ipython",
    "version": 3
   },
   "file_extension": ".py",
   "mimetype": "text/x-python",
   "name": "python",
   "nbconvert_exporter": "python",
   "pygments_lexer": "ipython3",
   "version": "3.12.4"
  }
 },
 "nbformat": 4,
 "nbformat_minor": 2
}

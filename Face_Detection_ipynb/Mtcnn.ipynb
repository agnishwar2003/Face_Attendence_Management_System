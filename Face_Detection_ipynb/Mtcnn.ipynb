{
 "cells": [
  {
   "cell_type": "code",
   "execution_count": 1,
   "metadata": {},
   "outputs": [],
   "source": [
    "import cv2\n",
    "from mtcnn import MTCNN\n"
   ]
  },
  {
   "cell_type": "code",
   "execution_count": 2,
   "metadata": {},
   "outputs": [],
   "source": [
    "detector = MTCNN()"
   ]
  },
  {
   "cell_type": "code",
   "execution_count": 3,
   "metadata": {},
   "outputs": [],
   "source": [
    "cap = cv2.VideoCapture(0)\n",
    "\n",
    "while True:\n",
    "    # Capture frame-by-frame\n",
    "    ret, frame = cap.read()\n",
    "    \n",
    "    if not ret:\n",
    "        print(\"Failed to capture frame. Exiting...\")\n",
    "        break\n",
    "\n",
    "    # Detect faces in the frame\n",
    "    output = detector.detect_faces(frame)\n",
    "\n",
    "    for single_output in output:\n",
    "        # Extract bounding box coordinates\n",
    "        x, y, width, height = single_output['box']\n",
    "        \n",
    "        # Draw rectangle around the face\n",
    "        cv2.rectangle(frame, pt1=(x, y), pt2=(x + width, y + height), color=(255, 0, 0), thickness=2)\n",
    "\n",
    "        # Extract keypoints\n",
    "        keypoints = single_output['keypoints']\n",
    "        left_eyeX, left_eyeY = keypoints['left_eye']\n",
    "        right_eyeX, right_eyeY = keypoints['right_eye']\n",
    "        noseX, noseY = keypoints['nose']\n",
    "        mouth_leftX, mouth_leftY = keypoints['mouth_left']\n",
    "        mouth_rightX, mouth_rightY = keypoints['mouth_right']\n",
    "\n",
    "        # Draw circles on keypoints\n",
    "        cv2.circle(frame, center=(left_eyeX, left_eyeY), color=(0, 255, 0), thickness=3, radius=2)\n",
    "        cv2.circle(frame, center=(right_eyeX, right_eyeY), color=(0, 255, 0), thickness=3, radius=2)\n",
    "        cv2.circle(frame, center=(noseX, noseY), color=(0, 255, 0), thickness=3, radius=2)\n",
    "        cv2.circle(frame, center=(mouth_leftX, mouth_leftY), color=(0, 255, 0), thickness=3, radius=2)\n",
    "        cv2.circle(frame, center=(mouth_rightX, mouth_rightY), color=(0, 255, 0), thickness=3, radius=2)\n",
    "\n",
    "    # Display the resulting frame\n",
    "    cv2.imshow('Face Detection with Keypoints', frame)\n",
    "\n",
    "    # Break loop on 'x' key press\n",
    "    if cv2.waitKey(1) & 0xFF == ord('q'):\n",
    "        break\n",
    "\n",
    "# Release resources\n",
    "cap.release()\n",
    "cv2.destroyAllWindows()"
   ]
  },
  {
   "cell_type": "code",
   "execution_count": 8,
   "metadata": {},
   "outputs": [],
   "source": [
    "import cv2\n",
    "from mtcnn import MTCNN\n",
    "\n",
    "# Load the image\n",
    "image_path = r\"D:\\PythonProject\\Face_Recognition_DL\\Multiple_selfie.jpg\"  # Change this to your image path\n",
    "image = cv2.imread(image_path)\n",
    "image = cv2.resize(image, (600, 500))\n",
    "\n",
    "# Initialize the MTCNN detector\n",
    "detector = MTCNN()\n",
    "\n",
    "# Detect faces in the image\n",
    "output = detector.detect_faces(image)\n",
    "\n",
    "for single_output in output:\n",
    "    # Extract bounding box coordinates\n",
    "    x, y, width, height = single_output['box']\n",
    "    \n",
    "    # Draw rectangle around the face\n",
    "    cv2.rectangle(image, pt1=(x, y), pt2=(x + width, y + height), color=(255, 0, 0), thickness=1)\n",
    "\n",
    "    # Extract keypoints\n",
    "    keypoints = single_output['keypoints']\n",
    "    left_eyeX, left_eyeY = keypoints['left_eye']\n",
    "    right_eyeX, right_eyeY = keypoints['right_eye']\n",
    "    noseX, noseY = keypoints['nose']\n",
    "    mouth_leftX, mouth_leftY = keypoints['mouth_left']\n",
    "    mouth_rightX, mouth_rightY = keypoints['mouth_right']\n",
    "\n",
    "    # Draw circles on keypoints\n",
    "    cv2.circle(image, center=(left_eyeX, left_eyeY), color=(0, 255, 0), thickness=1, radius=2)\n",
    "    cv2.circle(image, center=(right_eyeX, right_eyeY), color=(0, 255, 0), thickness=1, radius=2)\n",
    "    cv2.circle(image, center=(noseX, noseY), color=(0, 255, 0), thickness=1, radius=2)\n",
    "    cv2.circle(image, center=(mouth_leftX, mouth_leftY), color=(0, 255, 0), thickness=1, radius=2)\n",
    "    cv2.circle(image, center=(mouth_rightX, mouth_rightY), color=(0, 255, 0), thickness=1, radius=2)\n",
    "\n",
    "# Display the resulting image\n",
    "cv2.imshow('Face Detection with Keypoints', image)\n",
    "cv2.imwrite(r\"D:\\PythonProject\\Face_Recognition_DL\\Face_detection_test_op\\MTCNN.jpg\", image)\n",
    "\n",
    "cv2.waitKey(0)\n",
    "cv2.destroyAllWindows()"
   ]
  }
 ],
 "metadata": {
  "kernelspec": {
   "display_name": "HogEnv",
   "language": "python",
   "name": "python3"
  },
  "language_info": {
   "codemirror_mode": {
    "name": "ipython",
    "version": 3
   },
   "file_extension": ".py",
   "mimetype": "text/x-python",
   "name": "python",
   "nbconvert_exporter": "python",
   "pygments_lexer": "ipython3",
   "version": "3.12.4"
  }
 },
 "nbformat": 4,
 "nbformat_minor": 2
}
